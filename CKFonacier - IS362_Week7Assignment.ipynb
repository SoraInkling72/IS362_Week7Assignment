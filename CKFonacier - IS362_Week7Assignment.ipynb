{
 "cells": [
  {
   "cell_type": "markdown",
   "id": "9d4b5cc2",
   "metadata": {},
   "source": [
    "# IS 362 – Week 7 Assignment"
   ]
  },
  {
   "cell_type": "code",
   "execution_count": 1,
   "id": "6f45d3e7",
   "metadata": {},
   "outputs": [],
   "source": [
    "import pandas as pd"
   ]
  },
  {
   "cell_type": "markdown",
   "id": "59de6908",
   "metadata": {},
   "source": [
    "## Film Ratings Average by Viewer"
   ]
  },
  {
   "cell_type": "code",
   "execution_count": 2,
   "id": "12e4e8ec",
   "metadata": {
    "scrolled": false
   },
   "outputs": [
    {
     "data": {
      "text/html": [
       "<div>\n",
       "<style scoped>\n",
       "    .dataframe tbody tr th:only-of-type {\n",
       "        vertical-align: middle;\n",
       "    }\n",
       "\n",
       "    .dataframe tbody tr th {\n",
       "        vertical-align: top;\n",
       "    }\n",
       "\n",
       "    .dataframe thead th {\n",
       "        text-align: right;\n",
       "    }\n",
       "</style>\n",
       "<table border=\"1\" class=\"dataframe\">\n",
       "  <thead>\n",
       "    <tr style=\"text-align: right;\">\n",
       "      <th></th>\n",
       "      <th>American Sniper</th>\n",
       "      <th>Edge of Tomorrow</th>\n",
       "      <th>Groundhog Day</th>\n",
       "      <th>Jurassic World</th>\n",
       "      <th>Lost in Translation</th>\n",
       "      <th>Lucy</th>\n",
       "    </tr>\n",
       "  </thead>\n",
       "  <tbody>\n",
       "    <tr>\n",
       "      <th>John</th>\n",
       "      <td>5.0</td>\n",
       "      <td>4.0</td>\n",
       "      <td>3</td>\n",
       "      <td>NaN</td>\n",
       "      <td>NaN</td>\n",
       "      <td>4.0</td>\n",
       "    </tr>\n",
       "    <tr>\n",
       "      <th>Logan</th>\n",
       "      <td>4.0</td>\n",
       "      <td>NaN</td>\n",
       "      <td>3</td>\n",
       "      <td>3.0</td>\n",
       "      <td>NaN</td>\n",
       "      <td>NaN</td>\n",
       "    </tr>\n",
       "    <tr>\n",
       "      <th>Modesto</th>\n",
       "      <td>NaN</td>\n",
       "      <td>NaN</td>\n",
       "      <td>4</td>\n",
       "      <td>NaN</td>\n",
       "      <td>4.0</td>\n",
       "      <td>4.0</td>\n",
       "    </tr>\n",
       "    <tr>\n",
       "      <th>Malcolm</th>\n",
       "      <td>NaN</td>\n",
       "      <td>NaN</td>\n",
       "      <td>2</td>\n",
       "      <td>NaN</td>\n",
       "      <td>4.0</td>\n",
       "      <td>NaN</td>\n",
       "    </tr>\n",
       "    <tr>\n",
       "      <th>Maurice</th>\n",
       "      <td>5.0</td>\n",
       "      <td>4.0</td>\n",
       "      <td>4</td>\n",
       "      <td>2.0</td>\n",
       "      <td>3.0</td>\n",
       "      <td>3.0</td>\n",
       "    </tr>\n",
       "  </tbody>\n",
       "</table>\n",
       "</div>"
      ],
      "text/plain": [
       "         American Sniper  Edge of Tomorrow  Groundhog Day  Jurassic World  \\\n",
       "John                 5.0               4.0              3             NaN   \n",
       "Logan                4.0               NaN              3             3.0   \n",
       "Modesto              NaN               NaN              4             NaN   \n",
       "Malcolm              NaN               NaN              2             NaN   \n",
       "Maurice              5.0               4.0              4             2.0   \n",
       "\n",
       "         Lost in Translation  Lucy  \n",
       "John                     NaN   4.0  \n",
       "Logan                    NaN   NaN  \n",
       "Modesto                  4.0   4.0  \n",
       "Malcolm                  4.0   NaN  \n",
       "Maurice                  3.0   3.0  "
      ]
     },
     "execution_count": 2,
     "metadata": {},
     "output_type": "execute_result"
    }
   ],
   "source": [
    "ratings = pd.read_csv('Viewer_Ratings.csv', index_col = 0)\n",
    "ratings"
   ]
  },
  {
   "cell_type": "markdown",
   "id": "38038957",
   "metadata": {},
   "source": [
    "### Film Rating Averages"
   ]
  },
  {
   "cell_type": "markdown",
   "id": "a17fb4ac",
   "metadata": {},
   "source": [
    "These are film rating averages calculated based on the score of whomever viewed the film."
   ]
  },
  {
   "cell_type": "code",
   "execution_count": 3,
   "id": "4e01f268",
   "metadata": {},
   "outputs": [
    {
     "data": {
      "text/html": [
       "<div>\n",
       "<style scoped>\n",
       "    .dataframe tbody tr th:only-of-type {\n",
       "        vertical-align: middle;\n",
       "    }\n",
       "\n",
       "    .dataframe tbody tr th {\n",
       "        vertical-align: top;\n",
       "    }\n",
       "\n",
       "    .dataframe thead th {\n",
       "        text-align: right;\n",
       "    }\n",
       "</style>\n",
       "<table border=\"1\" class=\"dataframe\">\n",
       "  <thead>\n",
       "    <tr style=\"text-align: right;\">\n",
       "      <th></th>\n",
       "      <th>Film Rating Average</th>\n",
       "    </tr>\n",
       "  </thead>\n",
       "  <tbody>\n",
       "    <tr>\n",
       "      <th>American Sniper</th>\n",
       "      <td>4.666667</td>\n",
       "    </tr>\n",
       "    <tr>\n",
       "      <th>Edge of Tomorrow</th>\n",
       "      <td>4.000000</td>\n",
       "    </tr>\n",
       "    <tr>\n",
       "      <th>Groundhog Day</th>\n",
       "      <td>3.200000</td>\n",
       "    </tr>\n",
       "    <tr>\n",
       "      <th>Jurassic World</th>\n",
       "      <td>2.500000</td>\n",
       "    </tr>\n",
       "    <tr>\n",
       "      <th>Lost in Translation</th>\n",
       "      <td>3.666667</td>\n",
       "    </tr>\n",
       "    <tr>\n",
       "      <th>Lucy</th>\n",
       "      <td>3.666667</td>\n",
       "    </tr>\n",
       "  </tbody>\n",
       "</table>\n",
       "</div>"
      ],
      "text/plain": [
       "                     Film Rating Average\n",
       "American Sniper                 4.666667\n",
       "Edge of Tomorrow                4.000000\n",
       "Groundhog Day                   3.200000\n",
       "Jurassic World                  2.500000\n",
       "Lost in Translation             3.666667\n",
       "Lucy                            3.666667"
      ]
     },
     "execution_count": 3,
     "metadata": {},
     "output_type": "execute_result"
    }
   ],
   "source": [
    "average = ratings.mean()\n",
    "score_avg = pd.DataFrame(average)\n",
    "score_avg.columns = ['Film Rating Average']\n",
    "score_avg"
   ]
  },
  {
   "cell_type": "markdown",
   "id": "36d81d38",
   "metadata": {},
   "source": [
    "### Viewer Score Averages"
   ]
  },
  {
   "cell_type": "markdown",
   "id": "dc511d27",
   "metadata": {},
   "source": [
    "These are the averages calculated based on the scores the viewers gave whatever film they viewed."
   ]
  },
  {
   "cell_type": "code",
   "execution_count": 4,
   "id": "b22acde0",
   "metadata": {
    "scrolled": false
   },
   "outputs": [
    {
     "data": {
      "text/html": [
       "<div>\n",
       "<style scoped>\n",
       "    .dataframe tbody tr th:only-of-type {\n",
       "        vertical-align: middle;\n",
       "    }\n",
       "\n",
       "    .dataframe tbody tr th {\n",
       "        vertical-align: top;\n",
       "    }\n",
       "\n",
       "    .dataframe thead th {\n",
       "        text-align: right;\n",
       "    }\n",
       "</style>\n",
       "<table border=\"1\" class=\"dataframe\">\n",
       "  <thead>\n",
       "    <tr style=\"text-align: right;\">\n",
       "      <th></th>\n",
       "      <th>Viewer Score Average</th>\n",
       "    </tr>\n",
       "  </thead>\n",
       "  <tbody>\n",
       "    <tr>\n",
       "      <th>John</th>\n",
       "      <td>4.000000</td>\n",
       "    </tr>\n",
       "    <tr>\n",
       "      <th>Logan</th>\n",
       "      <td>3.333333</td>\n",
       "    </tr>\n",
       "    <tr>\n",
       "      <th>Modesto</th>\n",
       "      <td>4.000000</td>\n",
       "    </tr>\n",
       "    <tr>\n",
       "      <th>Malcolm</th>\n",
       "      <td>3.000000</td>\n",
       "    </tr>\n",
       "    <tr>\n",
       "      <th>Maurice</th>\n",
       "      <td>3.500000</td>\n",
       "    </tr>\n",
       "  </tbody>\n",
       "</table>\n",
       "</div>"
      ],
      "text/plain": [
       "         Viewer Score Average\n",
       "John                 4.000000\n",
       "Logan                3.333333\n",
       "Modesto              4.000000\n",
       "Malcolm              3.000000\n",
       "Maurice              3.500000"
      ]
     },
     "execution_count": 4,
     "metadata": {},
     "output_type": "execute_result"
    }
   ],
   "source": [
    "viewer_score = ratings.mean(axis=1)\n",
    "view_avg = pd.DataFrame(viewer_score)\n",
    "view_avg.columns = ['Viewer Score Average']\n",
    "view_avg"
   ]
  },
  {
   "cell_type": "markdown",
   "id": "2924f3bd",
   "metadata": {},
   "source": [
    "## Normalized Averaged Ratings"
   ]
  },
  {
   "cell_type": "markdown",
   "id": "833366b1",
   "metadata": {},
   "source": [
    "Here, unlike the actual data, their averages are calculated based on their respective sample sizes by group (e.g., film or viewer). Since their sample sizes are different, their averages are calculated from different scales to one another. Normalization is done to calculate these values to be on the same measurement scale, from a value between 0 to 1; ensuring that these values are properly made proportional to one another."
   ]
  },
  {
   "cell_type": "code",
   "execution_count": 5,
   "id": "e902e5f7",
   "metadata": {
    "scrolled": true
   },
   "outputs": [
    {
     "data": {
      "text/html": [
       "<div>\n",
       "<style scoped>\n",
       "    .dataframe tbody tr th:only-of-type {\n",
       "        vertical-align: middle;\n",
       "    }\n",
       "\n",
       "    .dataframe tbody tr th {\n",
       "        vertical-align: top;\n",
       "    }\n",
       "\n",
       "    .dataframe thead th {\n",
       "        text-align: right;\n",
       "    }\n",
       "</style>\n",
       "<table border=\"1\" class=\"dataframe\">\n",
       "  <thead>\n",
       "    <tr style=\"text-align: right;\">\n",
       "      <th></th>\n",
       "      <th>American Sniper</th>\n",
       "      <th>Edge of Tomorrow</th>\n",
       "      <th>Groundhog Day</th>\n",
       "      <th>Jurassic World</th>\n",
       "      <th>Lost in Translation</th>\n",
       "      <th>Lucy</th>\n",
       "    </tr>\n",
       "  </thead>\n",
       "  <tbody>\n",
       "    <tr>\n",
       "      <th>John</th>\n",
       "      <td>1.0</td>\n",
       "      <td>NaN</td>\n",
       "      <td>0.5</td>\n",
       "      <td>NaN</td>\n",
       "      <td>NaN</td>\n",
       "      <td>1.0</td>\n",
       "    </tr>\n",
       "    <tr>\n",
       "      <th>Logan</th>\n",
       "      <td>0.0</td>\n",
       "      <td>NaN</td>\n",
       "      <td>0.5</td>\n",
       "      <td>1.0</td>\n",
       "      <td>NaN</td>\n",
       "      <td>NaN</td>\n",
       "    </tr>\n",
       "    <tr>\n",
       "      <th>Modesto</th>\n",
       "      <td>NaN</td>\n",
       "      <td>NaN</td>\n",
       "      <td>1.0</td>\n",
       "      <td>NaN</td>\n",
       "      <td>1.0</td>\n",
       "      <td>1.0</td>\n",
       "    </tr>\n",
       "    <tr>\n",
       "      <th>Malcolm</th>\n",
       "      <td>NaN</td>\n",
       "      <td>NaN</td>\n",
       "      <td>0.0</td>\n",
       "      <td>NaN</td>\n",
       "      <td>1.0</td>\n",
       "      <td>NaN</td>\n",
       "    </tr>\n",
       "    <tr>\n",
       "      <th>Maurice</th>\n",
       "      <td>1.0</td>\n",
       "      <td>NaN</td>\n",
       "      <td>1.0</td>\n",
       "      <td>0.0</td>\n",
       "      <td>0.0</td>\n",
       "      <td>0.0</td>\n",
       "    </tr>\n",
       "  </tbody>\n",
       "</table>\n",
       "</div>"
      ],
      "text/plain": [
       "         American Sniper  Edge of Tomorrow  Groundhog Day  Jurassic World  \\\n",
       "John                 1.0               NaN            0.5             NaN   \n",
       "Logan                0.0               NaN            0.5             1.0   \n",
       "Modesto              NaN               NaN            1.0             NaN   \n",
       "Malcolm              NaN               NaN            0.0             NaN   \n",
       "Maurice              1.0               NaN            1.0             0.0   \n",
       "\n",
       "         Lost in Translation  Lucy  \n",
       "John                     NaN   1.0  \n",
       "Logan                    NaN   NaN  \n",
       "Modesto                  1.0   1.0  \n",
       "Malcolm                  1.0   NaN  \n",
       "Maurice                  0.0   0.0  "
      ]
     },
     "execution_count": 5,
     "metadata": {},
     "output_type": "execute_result"
    }
   ],
   "source": [
    "ratings_norm = ratings.copy()\n",
    "movies = list(ratings.columns)\n",
    "\n",
    "ratings_norm = (ratings_norm[movies] - ratings_norm[movies].min()) / (ratings_norm[movies].max() - ratings_norm[movies].min())\n",
    "ratings_norm"
   ]
  },
  {
   "cell_type": "markdown",
   "id": "b8505d62",
   "metadata": {},
   "source": [
    "### Normalized Film Ratings Average"
   ]
  },
  {
   "cell_type": "code",
   "execution_count": 6,
   "id": "caa6a721",
   "metadata": {
    "scrolled": true
   },
   "outputs": [
    {
     "data": {
      "text/html": [
       "<div>\n",
       "<style scoped>\n",
       "    .dataframe tbody tr th:only-of-type {\n",
       "        vertical-align: middle;\n",
       "    }\n",
       "\n",
       "    .dataframe tbody tr th {\n",
       "        vertical-align: top;\n",
       "    }\n",
       "\n",
       "    .dataframe thead th {\n",
       "        text-align: right;\n",
       "    }\n",
       "</style>\n",
       "<table border=\"1\" class=\"dataframe\">\n",
       "  <thead>\n",
       "    <tr style=\"text-align: right;\">\n",
       "      <th></th>\n",
       "      <th>Normalized Film Rating Average</th>\n",
       "    </tr>\n",
       "  </thead>\n",
       "  <tbody>\n",
       "    <tr>\n",
       "      <th>American Sniper</th>\n",
       "      <td>0.666667</td>\n",
       "    </tr>\n",
       "    <tr>\n",
       "      <th>Edge of Tomorrow</th>\n",
       "      <td>NaN</td>\n",
       "    </tr>\n",
       "    <tr>\n",
       "      <th>Groundhog Day</th>\n",
       "      <td>0.600000</td>\n",
       "    </tr>\n",
       "    <tr>\n",
       "      <th>Jurassic World</th>\n",
       "      <td>0.500000</td>\n",
       "    </tr>\n",
       "    <tr>\n",
       "      <th>Lost in Translation</th>\n",
       "      <td>0.666667</td>\n",
       "    </tr>\n",
       "    <tr>\n",
       "      <th>Lucy</th>\n",
       "      <td>0.666667</td>\n",
       "    </tr>\n",
       "  </tbody>\n",
       "</table>\n",
       "</div>"
      ],
      "text/plain": [
       "                     Normalized Film Rating Average\n",
       "American Sniper                            0.666667\n",
       "Edge of Tomorrow                                NaN\n",
       "Groundhog Day                              0.600000\n",
       "Jurassic World                             0.500000\n",
       "Lost in Translation                        0.666667\n",
       "Lucy                                       0.666667"
      ]
     },
     "execution_count": 6,
     "metadata": {},
     "output_type": "execute_result"
    }
   ],
   "source": [
    "norm_film_ratings = ratings_norm.mean()\n",
    "normalized_film_average = pd.DataFrame(norm_film_ratings)\n",
    "normalized_film_average.columns = ['Normalized Film Rating Average']\n",
    "normalized_film_average"
   ]
  },
  {
   "cell_type": "markdown",
   "id": "0468ca76",
   "metadata": {},
   "source": [
    "### Normalized Viewer Ratings Average"
   ]
  },
  {
   "cell_type": "code",
   "execution_count": 7,
   "id": "3cf702e7",
   "metadata": {
    "scrolled": true
   },
   "outputs": [
    {
     "data": {
      "text/html": [
       "<div>\n",
       "<style scoped>\n",
       "    .dataframe tbody tr th:only-of-type {\n",
       "        vertical-align: middle;\n",
       "    }\n",
       "\n",
       "    .dataframe tbody tr th {\n",
       "        vertical-align: top;\n",
       "    }\n",
       "\n",
       "    .dataframe thead th {\n",
       "        text-align: right;\n",
       "    }\n",
       "</style>\n",
       "<table border=\"1\" class=\"dataframe\">\n",
       "  <thead>\n",
       "    <tr style=\"text-align: right;\">\n",
       "      <th></th>\n",
       "      <th>Normalized Viewer Ratings Average</th>\n",
       "    </tr>\n",
       "  </thead>\n",
       "  <tbody>\n",
       "    <tr>\n",
       "      <th>John</th>\n",
       "      <td>0.833333</td>\n",
       "    </tr>\n",
       "    <tr>\n",
       "      <th>Logan</th>\n",
       "      <td>0.500000</td>\n",
       "    </tr>\n",
       "    <tr>\n",
       "      <th>Modesto</th>\n",
       "      <td>1.000000</td>\n",
       "    </tr>\n",
       "    <tr>\n",
       "      <th>Malcolm</th>\n",
       "      <td>0.500000</td>\n",
       "    </tr>\n",
       "    <tr>\n",
       "      <th>Maurice</th>\n",
       "      <td>0.400000</td>\n",
       "    </tr>\n",
       "  </tbody>\n",
       "</table>\n",
       "</div>"
      ],
      "text/plain": [
       "         Normalized Viewer Ratings Average\n",
       "John                              0.833333\n",
       "Logan                             0.500000\n",
       "Modesto                           1.000000\n",
       "Malcolm                           0.500000\n",
       "Maurice                           0.400000"
      ]
     },
     "execution_count": 7,
     "metadata": {},
     "output_type": "execute_result"
    }
   ],
   "source": [
    "norm_view_ratings = ratings_norm.mean(axis=1)\n",
    "normalized_viewer_average = pd.DataFrame(norm_view_ratings)\n",
    "normalized_viewer_average.columns = ['Normalized Viewer Ratings Average']\n",
    "normalized_viewer_average"
   ]
  },
  {
   "cell_type": "markdown",
   "id": "24dc6001",
   "metadata": {},
   "source": [
    "## Normalized Ratings vs. Actual Ratings"
   ]
  },
  {
   "cell_type": "markdown",
   "id": "edbf4418",
   "metadata": {},
   "source": [
    "Normalization is primarily used to change the values of a dataset to a common scale, enabling for comparisons and interpretations to be more accurate without distorting the difference in range of values or losing information. While this is useful for ensuring that all values are on the same scale, it will not be useful if data tables would have values of different scales and/or measurement units, and if this is intentional.\n",
    "\n",
    "The normalized data would make it clear to analyze and identify any underlying differences and deviations not present in the data at face value. This is made clear that while some of the values of the actual data may be equivalent to one another for film ratings, not everyone watched the same amount of movies, gave the same score to the film, nor watched every film. In this scenario, normalizing the data shows the scale in proportion for both the films and the viewers, the ratings the films received and the scores the viewers gave being proportional to one another on the same scale. Such examples include whether the movie received the same score from the multiple people, or whether the rating the person gave for all of the movies they viewed was consistent.\n",
    "\n",
    "For actual ratings, it gives the average overall for either the films or viewers regardless of whether or not the viewer watched or reviewed said film, hence why some of the values in the dataframe with the actual score values have null values. However, the sample sizes between the film ratings and viewer scores are not proportional to one another. Thus, normalization was required to make the scales equivalent to one another to make a clearer comparison between the films and viewers (e.g., such as whether the film got a higher score or whether the film viewer consistently gave a high score). However, **Edge of Tomorrow** is an exception since the film got the same score between the sample size of two people, and calculating it for it to be normalized is impossible as the calculated denominator will be 0. Thus, the **Edge of Tomorrow** column is full of null values, as there is no variance of values in the sample size, nor is the sample size large enough.\n",
    "\n",
    "Though, actual ratings has an advantage when wanting to use the real value of the data, regardless of sample size, wanting to know the average score of the film based on the pre-established scale given. This sort of context is easier to understand at a glance, accomodating for people that may not be adept in statistic normalization."
   ]
  },
  {
   "cell_type": "markdown",
   "id": "08132def",
   "metadata": {},
   "source": [
    "## Standardized Ratings (Extra Credit)"
   ]
  },
  {
   "cell_type": "markdown",
   "id": "b248c8cb",
   "metadata": {},
   "source": [
    "My attempt at the extra credit prompt, though I am unsure if this is done correctly."
   ]
  },
  {
   "cell_type": "code",
   "execution_count": 8,
   "id": "8d78d152",
   "metadata": {},
   "outputs": [
    {
     "data": {
      "text/html": [
       "<div>\n",
       "<style scoped>\n",
       "    .dataframe tbody tr th:only-of-type {\n",
       "        vertical-align: middle;\n",
       "    }\n",
       "\n",
       "    .dataframe tbody tr th {\n",
       "        vertical-align: top;\n",
       "    }\n",
       "\n",
       "    .dataframe thead th {\n",
       "        text-align: right;\n",
       "    }\n",
       "</style>\n",
       "<table border=\"1\" class=\"dataframe\">\n",
       "  <thead>\n",
       "    <tr style=\"text-align: right;\">\n",
       "      <th></th>\n",
       "      <th>American Sniper</th>\n",
       "      <th>Edge of Tomorrow</th>\n",
       "      <th>Groundhog Day</th>\n",
       "      <th>Jurassic World</th>\n",
       "      <th>Lost in Translation</th>\n",
       "      <th>Lucy</th>\n",
       "    </tr>\n",
       "  </thead>\n",
       "  <tbody>\n",
       "    <tr>\n",
       "      <th>John</th>\n",
       "      <td>0.577350</td>\n",
       "      <td>NaN</td>\n",
       "      <td>-0.239046</td>\n",
       "      <td>NaN</td>\n",
       "      <td>NaN</td>\n",
       "      <td>0.577350</td>\n",
       "    </tr>\n",
       "    <tr>\n",
       "      <th>Logan</th>\n",
       "      <td>-1.154701</td>\n",
       "      <td>NaN</td>\n",
       "      <td>-0.239046</td>\n",
       "      <td>0.707107</td>\n",
       "      <td>NaN</td>\n",
       "      <td>NaN</td>\n",
       "    </tr>\n",
       "    <tr>\n",
       "      <th>Modesto</th>\n",
       "      <td>NaN</td>\n",
       "      <td>NaN</td>\n",
       "      <td>0.956183</td>\n",
       "      <td>NaN</td>\n",
       "      <td>0.577350</td>\n",
       "      <td>0.577350</td>\n",
       "    </tr>\n",
       "    <tr>\n",
       "      <th>Malcolm</th>\n",
       "      <td>NaN</td>\n",
       "      <td>NaN</td>\n",
       "      <td>-1.434274</td>\n",
       "      <td>NaN</td>\n",
       "      <td>0.577350</td>\n",
       "      <td>NaN</td>\n",
       "    </tr>\n",
       "    <tr>\n",
       "      <th>Maurice</th>\n",
       "      <td>0.577350</td>\n",
       "      <td>NaN</td>\n",
       "      <td>0.956183</td>\n",
       "      <td>-0.707107</td>\n",
       "      <td>-1.154701</td>\n",
       "      <td>-1.154701</td>\n",
       "    </tr>\n",
       "  </tbody>\n",
       "</table>\n",
       "</div>"
      ],
      "text/plain": [
       "         American Sniper  Edge of Tomorrow  Groundhog Day  Jurassic World  \\\n",
       "John            0.577350               NaN      -0.239046             NaN   \n",
       "Logan          -1.154701               NaN      -0.239046        0.707107   \n",
       "Modesto              NaN               NaN       0.956183             NaN   \n",
       "Malcolm              NaN               NaN      -1.434274             NaN   \n",
       "Maurice         0.577350               NaN       0.956183       -0.707107   \n",
       "\n",
       "         Lost in Translation      Lucy  \n",
       "John                     NaN  0.577350  \n",
       "Logan                    NaN       NaN  \n",
       "Modesto             0.577350  0.577350  \n",
       "Malcolm             0.577350       NaN  \n",
       "Maurice            -1.154701 -1.154701  "
      ]
     },
     "execution_count": 8,
     "metadata": {},
     "output_type": "execute_result"
    }
   ],
   "source": [
    "ratings_z_scaled = ratings.copy()\n",
    "movies = list(ratings.columns)\n",
    "\n",
    "ratings_z_scaled = (ratings_z_scaled[movies] - ratings_z_scaled[movies].mean()) / ratings_z_scaled[movies].std()\n",
    "ratings_z_scaled"
   ]
  },
  {
   "cell_type": "code",
   "execution_count": 9,
   "id": "c0158d2e",
   "metadata": {
    "scrolled": true
   },
   "outputs": [
    {
     "data": {
      "text/html": [
       "<div>\n",
       "<style scoped>\n",
       "    .dataframe tbody tr th:only-of-type {\n",
       "        vertical-align: middle;\n",
       "    }\n",
       "\n",
       "    .dataframe tbody tr th {\n",
       "        vertical-align: top;\n",
       "    }\n",
       "\n",
       "    .dataframe thead th {\n",
       "        text-align: right;\n",
       "    }\n",
       "</style>\n",
       "<table border=\"1\" class=\"dataframe\">\n",
       "  <thead>\n",
       "    <tr style=\"text-align: right;\">\n",
       "      <th></th>\n",
       "      <th>Standardized Film Rating Average</th>\n",
       "    </tr>\n",
       "  </thead>\n",
       "  <tbody>\n",
       "    <tr>\n",
       "      <th>American Sniper</th>\n",
       "      <td>-5.181041e-16</td>\n",
       "    </tr>\n",
       "    <tr>\n",
       "      <th>Edge of Tomorrow</th>\n",
       "      <td>NaN</td>\n",
       "    </tr>\n",
       "    <tr>\n",
       "      <th>Groundhog Day</th>\n",
       "      <td>-1.998401e-16</td>\n",
       "    </tr>\n",
       "    <tr>\n",
       "      <th>Jurassic World</th>\n",
       "      <td>0.000000e+00</td>\n",
       "    </tr>\n",
       "    <tr>\n",
       "      <th>Lost in Translation</th>\n",
       "      <td>2.960595e-16</td>\n",
       "    </tr>\n",
       "    <tr>\n",
       "      <th>Lucy</th>\n",
       "      <td>2.960595e-16</td>\n",
       "    </tr>\n",
       "  </tbody>\n",
       "</table>\n",
       "</div>"
      ],
      "text/plain": [
       "                     Standardized Film Rating Average\n",
       "American Sniper                         -5.181041e-16\n",
       "Edge of Tomorrow                                  NaN\n",
       "Groundhog Day                           -1.998401e-16\n",
       "Jurassic World                           0.000000e+00\n",
       "Lost in Translation                      2.960595e-16\n",
       "Lucy                                     2.960595e-16"
      ]
     },
     "execution_count": 9,
     "metadata": {},
     "output_type": "execute_result"
    }
   ],
   "source": [
    "stand_film_ratings = ratings_z_scaled.mean()\n",
    "standardized_film_average = pd.DataFrame(stand_film_ratings)\n",
    "standardized_film_average.columns = ['Standardized Film Rating Average']\n",
    "standardized_film_average"
   ]
  },
  {
   "cell_type": "code",
   "execution_count": 10,
   "id": "7a787f89",
   "metadata": {
    "scrolled": true
   },
   "outputs": [
    {
     "data": {
      "text/html": [
       "<div>\n",
       "<style scoped>\n",
       "    .dataframe tbody tr th:only-of-type {\n",
       "        vertical-align: middle;\n",
       "    }\n",
       "\n",
       "    .dataframe tbody tr th {\n",
       "        vertical-align: top;\n",
       "    }\n",
       "\n",
       "    .dataframe thead th {\n",
       "        text-align: right;\n",
       "    }\n",
       "</style>\n",
       "<table border=\"1\" class=\"dataframe\">\n",
       "  <thead>\n",
       "    <tr style=\"text-align: right;\">\n",
       "      <th></th>\n",
       "      <th>Standardized Viewers Ratings Average</th>\n",
       "    </tr>\n",
       "  </thead>\n",
       "  <tbody>\n",
       "    <tr>\n",
       "      <th>John</th>\n",
       "      <td>0.305218</td>\n",
       "    </tr>\n",
       "    <tr>\n",
       "      <th>Logan</th>\n",
       "      <td>-0.228880</td>\n",
       "    </tr>\n",
       "    <tr>\n",
       "      <th>Modesto</th>\n",
       "      <td>0.703628</td>\n",
       "    </tr>\n",
       "    <tr>\n",
       "      <th>Malcolm</th>\n",
       "      <td>-0.428462</td>\n",
       "    </tr>\n",
       "    <tr>\n",
       "      <th>Maurice</th>\n",
       "      <td>-0.296595</td>\n",
       "    </tr>\n",
       "  </tbody>\n",
       "</table>\n",
       "</div>"
      ],
      "text/plain": [
       "         Standardized Viewers Ratings Average\n",
       "John                                 0.305218\n",
       "Logan                               -0.228880\n",
       "Modesto                              0.703628\n",
       "Malcolm                             -0.428462\n",
       "Maurice                             -0.296595"
      ]
     },
     "execution_count": 10,
     "metadata": {},
     "output_type": "execute_result"
    }
   ],
   "source": [
    "stand_view_ratings = ratings_z_scaled.mean(axis=1)\n",
    "standardized_viewer_average = pd.DataFrame(stand_view_ratings)\n",
    "standardized_viewer_average.columns = ['Standardized Viewers Ratings Average']\n",
    "standardized_viewer_average"
   ]
  },
  {
   "cell_type": "markdown",
   "id": "f9aa7c1f",
   "metadata": {},
   "source": [
    "### Note:"
   ]
  },
  {
   "cell_type": "markdown",
   "id": "6818845c",
   "metadata": {},
   "source": [
    "I am unsure if I had done this correctly, but if it is, I would not recommend *standardizing* the data, for either the film ratings or their viewers, especially for the former.\n",
    "\n",
    "For the films, the standardized averages are drastically diffferent from one another, except for **Lost in Translation** and **Lucy**. For **Edge of Tomorrow**, both of their ratings are the same and was viewed by only two people, hence why when calculated, it will result in null values as there is no deviation between the same values."
   ]
  },
  {
   "cell_type": "markdown",
   "id": "e068534b",
   "metadata": {},
   "source": [
    "## Test Blocks, Ignore Please"
   ]
  },
  {
   "cell_type": "markdown",
   "id": "5ce72577",
   "metadata": {},
   "source": [
    "These blocks of code were tests when trying to figure out how to complete the project. They are irrelevant for now but will be kept in case for future reference."
   ]
  },
  {
   "cell_type": "code",
   "execution_count": 11,
   "id": "6d0ed991",
   "metadata": {},
   "outputs": [],
   "source": [
    "#movies = list(ratings.columns)\n",
    "#standardized_film_average = ratings.groupby(movies).mean()\n",
    "#standardized_film_average.T"
   ]
  },
  {
   "cell_type": "code",
   "execution_count": 12,
   "id": "ef783052",
   "metadata": {
    "scrolled": true
   },
   "outputs": [],
   "source": [
    "#audience = list(ratings.T.columns)\n",
    "# Adding the \"T\" substitiutes the need for axis=1, it switches the column and row/index headers\n",
    "#standardized_audience_average = ratings.T.groupby(audience).mean()\n",
    "#standardized_audience_average.T"
   ]
  }
 ],
 "metadata": {
  "kernelspec": {
   "display_name": "Python 3",
   "language": "python",
   "name": "python3"
  },
  "language_info": {
   "codemirror_mode": {
    "name": "ipython",
    "version": 3
   },
   "file_extension": ".py",
   "mimetype": "text/x-python",
   "name": "python",
   "nbconvert_exporter": "python",
   "pygments_lexer": "ipython3",
   "version": "3.8.10"
  }
 },
 "nbformat": 4,
 "nbformat_minor": 5
}
